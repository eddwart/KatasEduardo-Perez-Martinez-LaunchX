{
 "cells": [
  {
   "cell_type": "code",
   "execution_count": 1,
   "metadata": {},
   "outputs": [
    {
     "name": "stdout",
     "output_type": "stream",
     "text": [
      "¡advertencia ateroide se acerca rapidamente!\n"
     ]
    }
   ],
   "source": [
    "a = 49\n",
    "b = 25\n",
    "\n",
    "if a > b:\n",
    "    print (\"¡advertencia ateroide se acerca rapidamente!\")\n",
    "\n",
    "else:\n",
    "    print (\"Te deseamos un excelente día\")"
   ]
  },
  {
   "cell_type": "code",
   "execution_count": 2,
   "metadata": {},
   "outputs": [
    {
     "name": "stdout",
     "output_type": "stream",
     "text": [
      "sigue con tu día\n"
     ]
    }
   ],
   "source": [
    "a = 19\n",
    "\n",
    "if a > 20:\n",
    "    print (\"se acerca un asteroide que puede ser visible, mira al cielo\")\n",
    "\n",
    "elif a == 20:\n",
    "    print (\"se acerca un asteroide que puede ser visible, mira al cielo\")\n",
    "\n",
    "else:\n",
    "    print (\"sigue con tu día\")\n"
   ]
  },
  {
   "cell_type": "code",
   "execution_count": 3,
   "metadata": {},
   "outputs": [
    {
     "name": "stdout",
     "output_type": "stream",
     "text": [
      "se acerca un asteroide de nulo peligro que puede ser visible, mira al cielo\n"
     ]
    }
   ],
   "source": [
    "velocidad_asteroide = 25\n",
    "tamaño_asteroide = 40\n",
    "\n",
    "if velocidad_asteroide > 25 and tamaño_asteroide > 25:\n",
    "    print(\"peligro! un asteroide potencial se acerca a la tierra\")\n",
    "\n",
    "elif velocidad_asteroide >= 20:\n",
    "    print(\"se acerca un asteroide de nulo peligro que puede ser visible, mira al cielo\")\n",
    "\n",
    "elif tamaño_asteroide < 25:\n",
    "    print (\"sigue con tu día\")\n",
    "\n",
    "else:\n",
    "    print (\"sigue con tu dia\")"
   ]
  }
 ],
 "metadata": {
  "interpreter": {
   "hash": "e51246eb650ad31ab034ffd674704af77fd7e2868fcf30e96f692641335ebe45"
  },
  "kernelspec": {
   "display_name": "Python 3.10.2 64-bit",
   "language": "python",
   "name": "python3"
  },
  "language_info": {
   "codemirror_mode": {
    "name": "ipython",
    "version": 3
   },
   "file_extension": ".py",
   "mimetype": "text/x-python",
   "name": "python",
   "nbconvert_exporter": "python",
   "pygments_lexer": "ipython3",
   "version": "3.10.2"
  },
  "orig_nbformat": 4
 },
 "nbformat": 4,
 "nbformat_minor": 2
}
