{
 "cells": [
  {
   "cell_type": "markdown",
   "metadata": {},
   "source": [
    "# Bienvenido al Calculador de parsec´s"
   ]
  },
  {
   "cell_type": "code",
   "execution_count": 2,
   "metadata": {},
   "outputs": [
    {
     "name": "stdout",
     "output_type": "stream",
     "text": [
      "Hoy a estamos a: 2022-02-09\n"
     ]
    }
   ],
   "source": [
    "from datetime import date\n",
    "print(\"Hoy a estamos a: \" + str (date.today()))"
   ]
  },
  {
   "cell_type": "code",
   "execution_count": 6,
   "metadata": {},
   "outputs": [
    {
     "name": "stdout",
     "output_type": "stream",
     "text": [
      "85 parsec is 858585 lightyears\n"
     ]
    }
   ],
   "source": [
    "parsec = input(\"introduzca parces a convertir\")\n",
    "lightyears = 3 * parsec\n",
    "print(str(parsec) + \" parsec is \" + str (lightyears) + \" lightyears\")"
   ]
  }
 ],
 "metadata": {
  "interpreter": {
   "hash": "e51246eb650ad31ab034ffd674704af77fd7e2868fcf30e96f692641335ebe45"
  },
  "kernelspec": {
   "display_name": "Python 3.10.2 64-bit",
   "language": "python",
   "name": "python3"
  },
  "language_info": {
   "codemirror_mode": {
    "name": "ipython",
    "version": 3
   },
   "file_extension": ".py",
   "mimetype": "text/x-python",
   "name": "python",
   "nbconvert_exporter": "python",
   "pygments_lexer": "ipython3",
   "version": "3.10.2"
  },
  "orig_nbformat": 4
 },
 "nbformat": 4,
 "nbformat_minor": 2
}
