{
 "cells": [
  {
   "cell_type": "code",
   "execution_count": 7,
   "metadata": {},
   "outputs": [
    {
     "name": "stdout",
     "output_type": "stream",
     "text": [
      "628949330\n",
      "390577533.93\n"
     ]
    }
   ],
   "source": [
    "tierra = 149597870 \n",
    "jupyter = 778547200\n",
    "\n",
    "\n",
    "distancia_km = jupyter - tierra\n",
    "print (distancia_km) \n",
    "\n",
    "en_millas = distancia_km * 0.621\n",
    "print (en_millas)"
   ]
  },
  {
   "cell_type": "code",
   "execution_count": 13,
   "metadata": {},
   "outputs": [
    {
     "name": "stdout",
     "output_type": "stream",
     "text": [
      "250000\n",
      "155250.0\n"
     ]
    }
   ],
   "source": [
    "planeta_0 = input ('Introduce la distancia en kilometros del primer planeta')\n",
    "planeta_1 = input ('Introduce la distancia en kilometros del segundo planeta')\n",
    "\n",
    "planeta_0 = int(planeta_0)\n",
    "planeta_1 = int(planeta_1)\n",
    "\n",
    "distancia_km = planeta_1 - planeta_0\n",
    "print (distancia_km)\n",
    "\n",
    "en_millas = distancia_km * 0.621\n",
    "print (abs(en_millas))"
   ]
  }
 ],
 "metadata": {
  "interpreter": {
   "hash": "e51246eb650ad31ab034ffd674704af77fd7e2868fcf30e96f692641335ebe45"
  },
  "kernelspec": {
   "display_name": "Python 3.10.2 64-bit",
   "language": "python",
   "name": "python3"
  },
  "language_info": {
   "codemirror_mode": {
    "name": "ipython",
    "version": 3
   },
   "file_extension": ".py",
   "mimetype": "text/x-python",
   "name": "python",
   "nbconvert_exporter": "python",
   "pygments_lexer": "ipython3",
   "version": "3.10.2"
  },
  "orig_nbformat": 4
 },
 "nbformat": 4,
 "nbformat_minor": 2
}
